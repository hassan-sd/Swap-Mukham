{
  "nbformat": 4,
  "nbformat_minor": 0,
  "metadata": {
    "colab": {
      "provenance": [],
      "include_colab_link": true
    },
    "kernelspec": {
      "name": "python3",
      "display_name": "Python 3"
    },
    "language_info": {
      "name": "python"
    }
  },
  "cells": [
    {
      "cell_type": "markdown",
      "metadata": {
        "id": "view-in-github",
        "colab_type": "text"
      },
      "source": [
        "<a href=\"https://colab.research.google.com/github/victorgeel/FSawap-BypassNSFW/blob/main/fswapbypassV1.ipynb\" target=\"_parent\"><img src=\"https://colab.research.google.com/assets/colab-badge.svg\" alt=\"Open In Colab\"/></a>"
      ]
    },
    {
      "cell_type": "code",
      "source": [
        "!pip install -q condacolab\n",
        "import condacolab\n",
        "condacolab.install()"
      ],
      "metadata": {
        "colab": {
          "base_uri": "https://localhost:8080/"
        },
        "id": "snynJAWsTmx8",
        "outputId": "b5941a53-c0ca-448d-b2e6-5b4588f05caa"
      },
      "execution_count": null,
      "outputs": [
        {
          "output_type": "stream",
          "name": "stdout",
          "text": [
            "⏬ Downloading https://github.com/conda-forge/miniforge/releases/download/23.1.0-1/Mambaforge-23.1.0-1-Linux-x86_64.sh...\n",
            "📦 Installing...\n",
            "📌 Adjusting configuration...\n",
            "🩹 Patching environment...\n",
            "⏲ Done in 0:00:13\n",
            "🔁 Restarting kernel...\n"
          ]
        }
      ]
    },
    {
      "cell_type": "code",
      "source": [
        "import condacolab\n",
        "condacolab.check()"
      ],
      "metadata": {
        "colab": {
          "base_uri": "https://localhost:8080/"
        },
        "id": "un3C38QETnog",
        "outputId": "c69dad94-1d65-469a-a455-5ccf90285bfd"
      },
      "execution_count": null,
      "outputs": [
        {
          "output_type": "stream",
          "name": "stdout",
          "text": [
            "✨🍰✨ Everything looks OK!\n"
          ]
        }
      ]
    },
    {
      "cell_type": "code",
      "source": [
        "!mamba install -q openmm"
      ],
      "metadata": {
        "colab": {
          "base_uri": "https://localhost:8080/"
        },
        "id": "hCAVLGCXTn8q",
        "outputId": "878f74c9-ed8b-4063-eb99-03bce5a0fcb4"
      },
      "execution_count": null,
      "outputs": [
        {
          "output_type": "stream",
          "name": "stdout",
          "text": [
            "Preparing transaction: ...working... done\n",
            "Verifying transaction: ...working... done\n",
            "Executing transaction: ...working... By downloading and using the CUDA Toolkit conda packages, you accept the terms and conditions of the CUDA End User License Agreement (EULA): https://docs.nvidia.com/cuda/eula/index.html\n",
            "\n",
            "done\n"
          ]
        }
      ]
    },
    {
      "cell_type": "code",
      "execution_count": 1,
      "metadata": {
        "colab": {
          "base_uri": "https://localhost:8080/"
        },
        "id": "k93ftZKHVCb6",
        "outputId": "d43a5ddf-834a-49a2-88e8-b1e59a925dd8"
      },
      "outputs": [
        {
          "output_type": "stream",
          "name": "stdout",
          "text": [
            "fatal: destination path 'FSawap-BypassNSFW' already exists and is not an empty directory.\n",
            "/content/FSawap-BypassNSFW\n",
            "Collecting package metadata (current_repodata.json): - \b\b\\ \b\b| \b\b/ \b\b- \b\b\\ \b\b| \b\b/ \b\b- \b\b\\ \b\b| \b\b/ \b\b- \b\b\\ \b\b| \b\b/ \b\b- \b\b\\ \b\b| \b\b/ \b\b- \b\b\\ \b\b| \b\b/ \b\b- \b\b\\ \b\b| \b\b/ \b\b- \b\b\\ \b\b| \b\b/ \b\b- \b\b\\ \b\b| \b\b/ \b\b- \b\b\\ \b\b| \b\b/ \b\b- \b\b\\ \b\b| \b\b/ \b\b- \b\b\\ \b\b| \b\b/ \b\b- \b\b\\ \b\b| \b\b/ \b\b- \b\b\\ \b\b| \b\b/ \b\b- \b\b\\ \b\b| \b\b/ \b\b- \b\b\\ \b\b| \b\b/ \b\b- \b\b\\ \b\b| \b\b/ \b\b- \b\b\\ \b\b| \b\b/ \b\b- \b\b\\ \b\b| \b\b/ \b\b- \b\b\\ \b\b| \b\b/ \b\b- \b\b\\ \b\b| \b\b/ \b\b- \b\b\\ \b\b| \b\b/ \b\b- \b\b\\ \b\b| \b\b/ \b\b- \b\b\\ \b\b| \b\b/ \b\b- \b\b\\ \b\b| \b\b/ \b\b- \b\b\\ \b\b| \b\b/ \b\b- \b\b\\ \b\b| \b\b/ \b\b- \b\b\\ \b\b| \b\b/ \b\b- \b\b\\ \b\b| \b\b/ \b\b- \b\b\\ \b\b| \b\b/ \b\b- \b\b\\ \b\b| \b\b/ \b\b- \b\b\\ \b\b| \b\b/ \b\b- \b\b\\ \b\b| \b\b/ \b\b- \b\b\\ \b\b| \b\b/ \b\b- \b\b\\ \b\b| \b\b/ \b\b- \b\b\\ \b\b| \b\b/ \b\b- \b\b\\ \b\b| \b\b/ \b\b- \b\b\\ \b\b| \b\b/ \b\b- \b\b\\ \b\b| \b\b/ \b\b- \b\b\\ \b\b| \b\b/ \b\b- \b\b\\ \b\b| \b\b/ \b\b- \b\b\\ \b\b| \b\b/ \b\b- \b\b\\ \b\b| \b\b/ \b\b- \b\b\\ \b\b| \b\b/ \b\b- \b\b\\ \b\b| \b\b/ \b\b- \b\b\\ \b\b| \b\b/ \b\b- \b\b\\ \b\b| \b\b/ \b\b- \b\b\\ \b\b| \b\b/ \b\b- \b\b\\ \b\b| \b\b/ \b\b- \b\b\\ \b\b| \b\b/ \b\b- \b\b\\ \b\b| \b\b/ \b\b- \b\b\\ \b\b| \b\b/ \b\b- \b\b\\ \b\b| \b\bdone\n",
            "Solving environment: - \b\b\\ \b\bdone\n",
            "\n",
            "\n",
            "==> WARNING: A newer version of conda exists. <==\n",
            "  current version: 23.3.1\n",
            "  latest version: 23.9.0\n",
            "\n",
            "Please update conda by running\n",
            "\n",
            "    $ conda update -n base -c conda-forge conda\n",
            "\n",
            "Or to minimize the number of packages updated during conda update use\n",
            "\n",
            "     conda install conda=23.9.0\n",
            "\n",
            "\n",
            "\n",
            "## Package Plan ##\n",
            "\n",
            "  environment location: /usr/local/envs/FSawap-BypassNSFW\n",
            "\n",
            "  added / updated specs:\n",
            "    - python=3.10\n",
            "\n",
            "\n",
            "The following NEW packages will be INSTALLED:\n",
            "\n",
            "  _libgcc_mutex      conda-forge/linux-64::_libgcc_mutex-0.1-conda_forge \n",
            "  _openmp_mutex      conda-forge/linux-64::_openmp_mutex-4.5-2_gnu \n",
            "  bzip2              conda-forge/linux-64::bzip2-1.0.8-h7f98852_4 \n",
            "  ca-certificates    conda-forge/linux-64::ca-certificates-2023.7.22-hbcca054_0 \n",
            "  ld_impl_linux-64   conda-forge/linux-64::ld_impl_linux-64-2.40-h41732ed_0 \n",
            "  libffi             conda-forge/linux-64::libffi-3.4.2-h7f98852_5 \n",
            "  libgcc-ng          conda-forge/linux-64::libgcc-ng-13.2.0-h807b86a_2 \n",
            "  libgomp            conda-forge/linux-64::libgomp-13.2.0-h807b86a_2 \n",
            "  libnsl             conda-forge/linux-64::libnsl-2.0.1-hd590300_0 \n",
            "  libsqlite          conda-forge/linux-64::libsqlite-3.44.0-h2797004_0 \n",
            "  libuuid            conda-forge/linux-64::libuuid-2.38.1-h0b41bf4_0 \n",
            "  libzlib            conda-forge/linux-64::libzlib-1.2.13-hd590300_5 \n",
            "  ncurses            conda-forge/linux-64::ncurses-6.4-h59595ed_2 \n",
            "  openssl            conda-forge/linux-64::openssl-3.1.4-hd590300_0 \n",
            "  pip                conda-forge/noarch::pip-23.3.1-pyhd8ed1ab_0 \n",
            "  python             conda-forge/linux-64::python-3.10.13-hd12c33a_0_cpython \n",
            "  readline           conda-forge/linux-64::readline-8.2-h8228510_1 \n",
            "  setuptools         conda-forge/noarch::setuptools-68.2.2-pyhd8ed1ab_0 \n",
            "  tk                 conda-forge/linux-64::tk-8.6.13-h2797004_0 \n",
            "  tzdata             conda-forge/noarch::tzdata-2023c-h71feb2d_0 \n",
            "  wheel              conda-forge/noarch::wheel-0.41.3-pyhd8ed1ab_0 \n",
            "  xz                 conda-forge/linux-64::xz-5.2.6-h166bdaf_0 \n",
            "\n",
            "\n",
            "\n",
            "Downloading and Extracting Packages\n",
            "\n",
            "Preparing transaction: / \b\b- \b\b\\ \b\b| \b\bdone\n",
            "Verifying transaction: - \b\b\\ \b\b| \b\b/ \b\b- \b\b\\ \b\b| \b\b/ \b\b- \b\b\\ \b\b| \b\b/ \b\b- \b\b\\ \b\b| \b\b/ \b\b- \b\bdone\n",
            "Executing transaction: | \b\b/ \b\b- \b\b\\ \b\b| \b\b/ \b\b- \b\b\\ \b\b| \b\b/ \b\b- \b\b\\ \b\b| \b\b/ \b\b- \b\b\\ \b\b| \b\b/ \b\b- \b\b\\ \b\b| \b\b/ \b\b- \b\b\\ \b\b| \b\b/ \b\b- \b\b\\ \b\b| \b\b/ \b\b- \b\b\\ \b\bdone\n",
            "#\n",
            "# To activate this environment, use\n",
            "#\n",
            "#     $ conda activate FSawap-BypassNSFW\n",
            "#\n",
            "# To deactivate an active environment, use\n",
            "#\n",
            "#     $ conda deactivate\n",
            "\n",
            "\n",
            "CommandNotFoundError: Your shell has not been properly configured to use 'conda activate'.\n",
            "To initialize your shell, run\n",
            "\n",
            "    $ conda init <SHELL_NAME>\n",
            "\n",
            "Currently supported shells are:\n",
            "  - bash\n",
            "  - fish\n",
            "  - tcsh\n",
            "  - xonsh\n",
            "  - zsh\n",
            "  - powershell\n",
            "\n",
            "See 'conda init --help' for more information and options.\n",
            "\n",
            "IMPORTANT: You may need to close and restart your shell after running 'conda init'.\n",
            "\n",
            "\n",
            "Collecting package metadata (current_repodata.json): - \b\b\\ \b\b| \b\b/ \b\b- \b\b\\ \b\b| \b\b/ \b\b- \b\b\\ \b\b| \b\b/ \b\b- \b\b\\ \b\b| \b\b/ \b\b- \b\b\\ \b\b| \b\b/ \b\b- \b\b\\ \b\b| \b\b/ \b\b- \b\b\\ \b\b| \b\b/ \b\b- WARNING conda.models.version:get_matcher(546): Using .* with relational operator is superfluous and deprecated and will be removed in a future version of conda. Your spec was 1.7.1.*, but conda is ignoring the .* and treating it as 1.7.1\n",
            "\b\b\\ \b\b| \b\b/ \b\b- \b\b\\ \b\b| \b\b/ \b\b- \b\b\\ \b\b| \b\b/ \b\b- \b\b\\ \b\b| \b\b/ \b\b- \b\b\\ \b\b| \b\b/ \b\b- \b\b\\ \b\b| \b\b/ \b\b- \b\b\\ \b\b| \b\b/ \b\b- \b\b\\ \b\b| \b\b/ \b\b- \b\b\\ \b\b| \b\b/ \b\b- \b\b\\ \b\b| \b\b/ \b\b- \b\b\\ \b\b| \b\b/ \b\b- \b\b\\ \b\b| \b\b/ \b\b- \b\b\\ \b\b| \b\b/ \b\b- \b\b\\ \b\b| \b\b/ \b\b- \b\b\\ \b\b| \b\b/ \b\b- \b\b\\ \b\b| \b\b/ \b\b- \b\b\\ \b\b| \b\b/ \b\b- \b\b\\ \b\b| \b\b/ \b\b- \b\b\\ \b\b| \b\b/ \b\b- \b\b\\ \b\b| \b\b/ \b\b- \b\b\\ \b\b| \b\b/ \b\b- \b\b\\ \b\b| \b\b/ \b\b- \b\b\\ \b\b| \b\b/ \b\b- \b\b\\ \b\b| \b\b/ \b\b- \b\b\\ \b\b| \b\b/ \b\b- \b\b\\ \b\b| \b\b/ \b\b- \b\b\\ \b\b| \b\b/ \b\b- \b\b\\ \b\b| \b\b/ \b\b- \b\b\\ \b\b| \b\b/ \b\b- \b\b\\ \b\b| \b\b/ \b\b- \b\b\\ \b\b| \b\b/ \b\b- \b\b\\ \b\b| \b\b/ \b\b- \b\b\\ \b\b| \b\b/ \b\b- \b\b\\ \b\b| \b\b/ \b\b- \b\b\\ \b\b| \b\b/ \b\b- \b\b\\ \b\b| \b\b/ \b\b- \b\b\\ \b\b| \b\b/ \b\b- \b\b\\ \b\b| \b\b/ \b\b- \b\b\\ \b\b| \b\b/ \b\b- \b\b\\ \b\b| \b\b/ \b\b- \b\b\\ \b\b| \b\b/ \b\b- \b\b\\ \b\b| \b\b/ \b\b- \b\b\\ \b\b| \b\b/ \b\b- \b\b\\ \b\b| \b\b/ \b\b- \b\b\\ \b\b| \b\b/ \b\b- \b\b\\ \b\b| \b\b/ \b\b- \b\b\\ \b\b| \b\b/ \b\b- \b\b\\ \b\b| \b\b/ \b\b- \b\bdone\n",
            "Solving environment: | \b\b/ \b\b- \b\b\\ \b\b| \b\b/ \b\b- \b\b\\ \b\b| \b\b/ \b\b- \b\b\\ \b\b| \b\b/ \b\b- \b\b\\ \b\b| \b\b/ \b\b- \b\b\\ \b\b| \b\b/ \b\b- \b\b\\ \b\b| \b\b/ \b\b- \b\b\\ \b\b| \b\b/ \b\b- \b\b\\ \b\b| \b\b/ \b\b- \b\b\\ \b\b| \b\b/ \b\b- \b\b\\ \b\b| \b\b/ \b\b- \b\b\\ \b\b| \b\b/ \b\b- \b\b\\ \b\b| \b\b/ \b\b- \b\b\\ \b\bdone\n",
            "\n",
            "\n",
            "==> WARNING: A newer version of conda exists. <==\n",
            "  current version: 23.3.1\n",
            "  latest version: 23.9.0\n",
            "\n",
            "Please update conda by running\n",
            "\n",
            "    $ conda update -n base -c conda-forge conda\n",
            "\n",
            "Or to minimize the number of packages updated during conda update use\n",
            "\n",
            "     conda install conda=23.9.0\n",
            "\n",
            "\n",
            "\n",
            "# All requested packages already installed.\n",
            "\n",
            "Requirement already satisfied: basicsr==1.4.2 in /usr/local/lib/python3.10/site-packages (from -r requirements.txt (line 1)) (1.4.2)\n",
            "Requirement already satisfied: gradio>=3.47.1 in /usr/local/lib/python3.10/site-packages (from -r requirements.txt (line 2)) (3.50.2)\n",
            "Requirement already satisfied: gfpgan==1.3.8 in /usr/local/lib/python3.10/site-packages (from -r requirements.txt (line 3)) (1.3.8)\n",
            "Requirement already satisfied: insightface==0.7.3 in /usr/local/lib/python3.10/site-packages (from -r requirements.txt (line 4)) (0.7.3)\n",
            "Requirement already satisfied: kaleido in /usr/local/lib/python3.10/site-packages (from -r requirements.txt (line 5)) (0.2.1)\n",
            "Requirement already satisfied: lida in /usr/local/lib/python3.10/site-packages (from -r requirements.txt (line 6)) (0.0.10)\n",
            "Requirement already satisfied: moviepy>=1.0.3 in /usr/local/lib/python3.10/site-packages (from -r requirements.txt (line 7)) (1.0.3)\n",
            "Requirement already satisfied: numpy in /usr/local/lib/python3.10/site-packages (from -r requirements.txt (line 8)) (1.24.3)\n",
            "Requirement already satisfied: onnx==1.14.0 in /usr/local/lib/python3.10/site-packages (from -r requirements.txt (line 9)) (1.14.0)\n",
            "Requirement already satisfied: onnxruntime==1.16.0 in /usr/local/lib/python3.10/site-packages (from -r requirements.txt (line 10)) (1.16.0)\n",
            "Requirement already satisfied: pillow==10.0.1 in /usr/local/lib/python3.10/site-packages (from -r requirements.txt (line 11)) (10.0.1)\n",
            "Requirement already satisfied: protobuf==4.24.2 in /usr/local/lib/python3.10/site-packages (from -r requirements.txt (line 12)) (4.24.2)\n",
            "Requirement already satisfied: psutil==5.9.5 in /usr/local/lib/python3.10/site-packages (from -r requirements.txt (line 13)) (5.9.5)\n",
            "Requirement already satisfied: opencv-python>=4.8.1.78 in /usr/local/lib/python3.10/site-packages (from -r requirements.txt (line 14)) (4.8.1.78)\n",
            "Requirement already satisfied: opencv-python-headless>=4.7.0.7 in /usr/local/lib/python3.10/site-packages (from -r requirements.txt (line 15)) (4.8.1.78)\n",
            "Requirement already satisfied: realesrgan==0.3.0 in /usr/local/lib/python3.10/site-packages (from -r requirements.txt (line 16)) (0.3.0)\n",
            "Requirement already satisfied: tensorflow==2.13.0 in /usr/local/lib/python3.10/site-packages (from -r requirements.txt (line 17)) (2.13.0)\n",
            "Requirement already satisfied: torch in /usr/local/lib/python3.10/site-packages (from -r requirements.txt (line 18)) (2.0.0.post4)\n",
            "Requirement already satisfied: tqdm==4.66.1 in /usr/local/lib/python3.10/site-packages (from -r requirements.txt (line 19)) (4.66.1)\n",
            "Requirement already satisfied: yapf in /usr/local/lib/python3.10/site-packages (from basicsr==1.4.2->-r requirements.txt (line 1)) (0.40.2)\n",
            "Requirement already satisfied: lmdb in /usr/local/lib/python3.10/site-packages (from basicsr==1.4.2->-r requirements.txt (line 1)) (1.4.1)\n",
            "Requirement already satisfied: scikit-image in /usr/local/lib/python3.10/site-packages (from basicsr==1.4.2->-r requirements.txt (line 1)) (0.22.0)\n",
            "Requirement already satisfied: tb-nightly in /usr/local/lib/python3.10/site-packages (from basicsr==1.4.2->-r requirements.txt (line 1)) (2.16.0a20231104)\n",
            "Requirement already satisfied: pyyaml in /usr/local/lib/python3.10/site-packages (from basicsr==1.4.2->-r requirements.txt (line 1)) (6.0.1)\n",
            "Requirement already satisfied: future in /usr/local/lib/python3.10/site-packages (from basicsr==1.4.2->-r requirements.txt (line 1)) (0.18.3)\n",
            "Requirement already satisfied: scipy in /usr/local/lib/python3.10/site-packages (from basicsr==1.4.2->-r requirements.txt (line 1)) (1.11.3)\n",
            "Requirement already satisfied: torchvision in /usr/local/lib/python3.10/site-packages (from basicsr==1.4.2->-r requirements.txt (line 1)) (0.15.0)\n",
            "Requirement already satisfied: addict in /usr/local/lib/python3.10/site-packages (from basicsr==1.4.2->-r requirements.txt (line 1)) (2.4.0)\n",
            "Requirement already satisfied: requests in /usr/local/lib/python3.10/site-packages (from basicsr==1.4.2->-r requirements.txt (line 1)) (2.28.2)\n",
            "Requirement already satisfied: facexlib>=0.2.5 in /usr/local/lib/python3.10/site-packages (from gfpgan==1.3.8->-r requirements.txt (line 3)) (0.3.0)\n",
            "Requirement already satisfied: prettytable in /usr/local/lib/python3.10/site-packages (from insightface==0.7.3->-r requirements.txt (line 4)) (3.9.0)\n",
            "Requirement already satisfied: cython in /usr/local/lib/python3.10/site-packages (from insightface==0.7.3->-r requirements.txt (line 4)) (3.0.5)\n",
            "Requirement already satisfied: albumentations in /usr/local/lib/python3.10/site-packages (from insightface==0.7.3->-r requirements.txt (line 4)) (1.3.1)\n",
            "Requirement already satisfied: scikit-learn in /usr/local/lib/python3.10/site-packages (from insightface==0.7.3->-r requirements.txt (line 4)) (1.3.2)\n",
            "Requirement already satisfied: matplotlib in /usr/local/lib/python3.10/site-packages (from insightface==0.7.3->-r requirements.txt (line 4)) (3.8.1)\n",
            "Requirement already satisfied: easydict in /usr/local/lib/python3.10/site-packages (from insightface==0.7.3->-r requirements.txt (line 4)) (1.11)\n",
            "Requirement already satisfied: typing-extensions>=3.6.2.1 in /usr/local/lib/python3.10/site-packages (from onnx==1.14.0->-r requirements.txt (line 9)) (4.5.0)\n",
            "Requirement already satisfied: sympy in /usr/local/lib/python3.10/site-packages (from onnxruntime==1.16.0->-r requirements.txt (line 10)) (1.12)\n",
            "Requirement already satisfied: packaging in /usr/local/lib/python3.10/site-packages (from onnxruntime==1.16.0->-r requirements.txt (line 10)) (23.2)\n",
            "Requirement already satisfied: flatbuffers in /usr/local/lib/python3.10/site-packages (from onnxruntime==1.16.0->-r requirements.txt (line 10)) (23.5.26)\n",
            "Requirement already satisfied: coloredlogs in /usr/local/lib/python3.10/site-packages (from onnxruntime==1.16.0->-r requirements.txt (line 10)) (15.0.1)\n",
            "Requirement already satisfied: keras<2.14,>=2.13.1 in /usr/local/lib/python3.10/site-packages (from tensorflow==2.13.0->-r requirements.txt (line 17)) (2.13.1)\n",
            "Requirement already satisfied: google-pasta>=0.1.1 in /usr/local/lib/python3.10/site-packages (from tensorflow==2.13.0->-r requirements.txt (line 17)) (0.2.0)\n",
            "Requirement already satisfied: h5py>=2.9.0 in /usr/local/lib/python3.10/site-packages (from tensorflow==2.13.0->-r requirements.txt (line 17)) (3.10.0)\n",
            "Requirement already satisfied: absl-py>=1.0.0 in /usr/local/lib/python3.10/site-packages (from tensorflow==2.13.0->-r requirements.txt (line 17)) (2.0.0)\n",
            "Requirement already satisfied: six>=1.12.0 in /usr/local/lib/python3.10/site-packages (from tensorflow==2.13.0->-r requirements.txt (line 17)) (1.16.0)\n",
            "Requirement already satisfied: setuptools in /usr/local/lib/python3.10/site-packages (from tensorflow==2.13.0->-r requirements.txt (line 17)) (65.6.3)\n",
            "Requirement already satisfied: astunparse>=1.6.0 in /usr/local/lib/python3.10/site-packages (from tensorflow==2.13.0->-r requirements.txt (line 17)) (1.6.3)\n",
            "Requirement already satisfied: wrapt>=1.11.0 in /usr/local/lib/python3.10/site-packages (from tensorflow==2.13.0->-r requirements.txt (line 17)) (1.15.0)\n",
            "Requirement already satisfied: opt-einsum>=2.3.2 in /usr/local/lib/python3.10/site-packages (from tensorflow==2.13.0->-r requirements.txt (line 17)) (3.3.0)\n",
            "Requirement already satisfied: gast<=0.4.0,>=0.2.1 in /usr/local/lib/python3.10/site-packages (from tensorflow==2.13.0->-r requirements.txt (line 17)) (0.4.0)\n",
            "Requirement already satisfied: grpcio<2.0,>=1.24.3 in /usr/local/lib/python3.10/site-packages (from tensorflow==2.13.0->-r requirements.txt (line 17)) (1.59.2)\n",
            "Requirement already satisfied: termcolor>=1.1.0 in /usr/local/lib/python3.10/site-packages (from tensorflow==2.13.0->-r requirements.txt (line 17)) (2.3.0)\n",
            "Requirement already satisfied: libclang>=13.0.0 in /usr/local/lib/python3.10/site-packages (from tensorflow==2.13.0->-r requirements.txt (line 17)) (16.0.6)\n",
            "Requirement already satisfied: tensorflow-estimator<2.14,>=2.13.0 in /usr/local/lib/python3.10/site-packages (from tensorflow==2.13.0->-r requirements.txt (line 17)) (2.13.0)\n",
            "Requirement already satisfied: tensorflow-io-gcs-filesystem>=0.23.1 in /usr/local/lib/python3.10/site-packages (from tensorflow==2.13.0->-r requirements.txt (line 17)) (0.34.0)\n",
            "Requirement already satisfied: tensorboard<2.14,>=2.13 in /usr/local/lib/python3.10/site-packages (from tensorflow==2.13.0->-r requirements.txt (line 17)) (2.13.0)\n",
            "Requirement already satisfied: semantic-version~=2.0 in /usr/local/lib/python3.10/site-packages (from gradio>=3.47.1->-r requirements.txt (line 2)) (2.10.0)\n",
            "Requirement already satisfied: fastapi in /usr/local/lib/python3.10/site-packages (from gradio>=3.47.1->-r requirements.txt (line 2)) (0.103.2)\n",
            "Requirement already satisfied: pydub in /usr/local/lib/python3.10/site-packages (from gradio>=3.47.1->-r requirements.txt (line 2)) (0.25.1)\n",
            "Requirement already satisfied: pydantic!=1.8,!=1.8.1,!=2.0.0,!=2.0.1,<3.0.0,>=1.7.4 in /usr/local/lib/python3.10/site-packages (from gradio>=3.47.1->-r requirements.txt (line 2)) (1.10.13)\n",
            "Requirement already satisfied: altair<6.0,>=4.2.0 in /usr/local/lib/python3.10/site-packages (from gradio>=3.47.1->-r requirements.txt (line 2)) (5.1.2)\n",
            "Requirement already satisfied: huggingface-hub>=0.14.0 in /usr/local/lib/python3.10/site-packages (from gradio>=3.47.1->-r requirements.txt (line 2)) (0.18.0)\n",
            "Requirement already satisfied: aiofiles<24.0,>=22.0 in /usr/local/lib/python3.10/site-packages (from gradio>=3.47.1->-r requirements.txt (line 2)) (23.2.1)\n",
            "Requirement already satisfied: importlib-resources<7.0,>=1.3 in /usr/local/lib/python3.10/site-packages (from gradio>=3.47.1->-r requirements.txt (line 2)) (6.1.0)\n",
            "Requirement already satisfied: markupsafe~=2.0 in /usr/local/lib/python3.10/site-packages (from gradio>=3.47.1->-r requirements.txt (line 2)) (2.1.3)\n",
            "Requirement already satisfied: jinja2<4.0 in /usr/local/lib/python3.10/site-packages (from gradio>=3.47.1->-r requirements.txt (line 2)) (3.1.2)\n",
            "Requirement already satisfied: orjson~=3.0 in /usr/local/lib/python3.10/site-packages (from gradio>=3.47.1->-r requirements.txt (line 2)) (3.9.10)\n",
            "Requirement already satisfied: uvicorn>=0.14.0 in /usr/local/lib/python3.10/site-packages (from gradio>=3.47.1->-r requirements.txt (line 2)) (0.24.0)\n",
            "Requirement already satisfied: ffmpy in /usr/local/lib/python3.10/site-packages (from gradio>=3.47.1->-r requirements.txt (line 2)) (0.3.1)\n",
            "Requirement already satisfied: httpx in /usr/local/lib/python3.10/site-packages (from gradio>=3.47.1->-r requirements.txt (line 2)) (0.25.1)\n",
            "Requirement already satisfied: websockets<12.0,>=10.0 in /usr/local/lib/python3.10/site-packages (from gradio>=3.47.1->-r requirements.txt (line 2)) (11.0.3)\n",
            "Requirement already satisfied: gradio-client==0.6.1 in /usr/local/lib/python3.10/site-packages (from gradio>=3.47.1->-r requirements.txt (line 2)) (0.6.1)\n",
            "Requirement already satisfied: pandas<3.0,>=1.0 in /usr/local/lib/python3.10/site-packages (from gradio>=3.47.1->-r requirements.txt (line 2)) (2.1.2)\n",
            "Requirement already satisfied: python-multipart in /usr/local/lib/python3.10/site-packages (from gradio>=3.47.1->-r requirements.txt (line 2)) (0.0.6)\n",
            "Requirement already satisfied: fsspec in /usr/local/lib/python3.10/site-packages (from gradio-client==0.6.1->gradio>=3.47.1->-r requirements.txt (line 2)) (2023.10.0)\n",
            "Requirement already satisfied: networkx in /usr/local/lib/python3.10/site-packages (from lida->-r requirements.txt (line 6)) (3.2.1)\n",
            "Requirement already satisfied: matplotlib-venn in /usr/local/lib/python3.10/site-packages (from lida->-r requirements.txt (line 6)) (0.11.9)\n",
            "Requirement already satisfied: geopandas in /usr/local/lib/python3.10/site-packages (from lida->-r requirements.txt (line 6)) (0.14.0)\n",
            "Requirement already satisfied: statsmodels in /usr/local/lib/python3.10/site-packages (from lida->-r requirements.txt (line 6)) (0.14.0)\n",
            "Requirement already satisfied: wordcloud in /usr/local/lib/python3.10/site-packages (from lida->-r requirements.txt (line 6)) (1.9.2)\n",
            "Requirement already satisfied: seaborn in /usr/local/lib/python3.10/site-packages (from lida->-r requirements.txt (line 6)) (0.13.0)\n",
            "Requirement already satisfied: typer in /usr/local/lib/python3.10/site-packages (from lida->-r requirements.txt (line 6)) (0.9.0)\n",
            "Requirement already satisfied: llmx in /usr/local/lib/python3.10/site-packages (from lida->-r requirements.txt (line 6)) (0.0.17a0)\n",
            "Requirement already satisfied: plotnine in /usr/local/lib/python3.10/site-packages (from lida->-r requirements.txt (line 6)) (0.12.3)\n",
            "Requirement already satisfied: plotly in /usr/local/lib/python3.10/site-packages (from lida->-r requirements.txt (line 6)) (5.18.0)\n",
            "Requirement already satisfied: proglog<=1.0.0 in /usr/local/lib/python3.10/site-packages (from moviepy>=1.0.3->-r requirements.txt (line 7)) (0.1.10)\n",
            "Requirement already satisfied: imageio<3.0,>=2.5 in /usr/local/lib/python3.10/site-packages (from moviepy>=1.0.3->-r requirements.txt (line 7)) (2.31.6)\n",
            "Requirement already satisfied: imageio-ffmpeg>=0.2.0 in /usr/local/lib/python3.10/site-packages (from moviepy>=1.0.3->-r requirements.txt (line 7)) (0.4.9)\n",
            "Requirement already satisfied: decorator<5.0,>=4.0.2 in /usr/local/lib/python3.10/site-packages (from moviepy>=1.0.3->-r requirements.txt (line 7)) (4.4.2)\n",
            "Requirement already satisfied: filelock in /usr/local/lib/python3.10/site-packages (from torch->-r requirements.txt (line 18)) (3.13.1)\n",
            "Requirement already satisfied: toolz in /usr/local/lib/python3.10/site-packages (from altair<6.0,>=4.2.0->gradio>=3.47.1->-r requirements.txt (line 2)) (0.12.0)\n",
            "Requirement already satisfied: jsonschema>=3.0 in /usr/local/lib/python3.10/site-packages (from altair<6.0,>=4.2.0->gradio>=3.47.1->-r requirements.txt (line 2)) (4.19.2)\n",
            "Requirement already satisfied: wheel<1.0,>=0.23.0 in /usr/local/lib/python3.10/site-packages (from astunparse>=1.6.0->tensorflow==2.13.0->-r requirements.txt (line 17)) (0.40.0)\n",
            "Requirement already satisfied: filterpy in /usr/local/lib/python3.10/site-packages (from facexlib>=0.2.5->gfpgan==1.3.8->-r requirements.txt (line 3)) (1.4.5)\n",
            "Requirement already satisfied: numba in /usr/local/lib/python3.10/site-packages (from facexlib>=0.2.5->gfpgan==1.3.8->-r requirements.txt (line 3)) (0.58.1)\n",
            "Requirement already satisfied: kiwisolver>=1.3.1 in /usr/local/lib/python3.10/site-packages (from matplotlib->insightface==0.7.3->-r requirements.txt (line 4)) (1.4.5)\n",
            "Requirement already satisfied: fonttools>=4.22.0 in /usr/local/lib/python3.10/site-packages (from matplotlib->insightface==0.7.3->-r requirements.txt (line 4)) (4.44.0)\n",
            "Requirement already satisfied: cycler>=0.10 in /usr/local/lib/python3.10/site-packages (from matplotlib->insightface==0.7.3->-r requirements.txt (line 4)) (0.12.1)\n",
            "Requirement already satisfied: python-dateutil>=2.7 in /usr/local/lib/python3.10/site-packages (from matplotlib->insightface==0.7.3->-r requirements.txt (line 4)) (2.8.2)\n",
            "Requirement already satisfied: contourpy>=1.0.1 in /usr/local/lib/python3.10/site-packages (from matplotlib->insightface==0.7.3->-r requirements.txt (line 4)) (1.2.0)\n",
            "Requirement already satisfied: pyparsing>=2.3.1 in /usr/local/lib/python3.10/site-packages (from matplotlib->insightface==0.7.3->-r requirements.txt (line 4)) (3.1.1)\n",
            "Requirement already satisfied: pytz>=2020.1 in /usr/local/lib/python3.10/site-packages (from pandas<3.0,>=1.0->gradio>=3.47.1->-r requirements.txt (line 2)) (2023.3.post1)\n",
            "Requirement already satisfied: tzdata>=2022.1 in /usr/local/lib/python3.10/site-packages (from pandas<3.0,>=1.0->gradio>=3.47.1->-r requirements.txt (line 2)) (2023.3)\n",
            "Requirement already satisfied: idna<4,>=2.5 in /usr/local/lib/python3.10/site-packages (from requests->basicsr==1.4.2->-r requirements.txt (line 1)) (3.4)\n",
            "Requirement already satisfied: urllib3<1.27,>=1.21.1 in /usr/local/lib/python3.10/site-packages (from requests->basicsr==1.4.2->-r requirements.txt (line 1)) (1.26.15)\n",
            "Requirement already satisfied: certifi>=2017.4.17 in /usr/local/lib/python3.10/site-packages (from requests->basicsr==1.4.2->-r requirements.txt (line 1)) (2023.7.22)\n",
            "Requirement already satisfied: charset-normalizer<4,>=2 in /usr/local/lib/python3.10/site-packages (from requests->basicsr==1.4.2->-r requirements.txt (line 1)) (3.1.0)\n",
            "Requirement already satisfied: werkzeug>=1.0.1 in /usr/local/lib/python3.10/site-packages (from tensorboard<2.14,>=2.13->tensorflow==2.13.0->-r requirements.txt (line 17)) (3.0.1)\n",
            "Requirement already satisfied: tensorboard-data-server<0.8.0,>=0.7.0 in /usr/local/lib/python3.10/site-packages (from tensorboard<2.14,>=2.13->tensorflow==2.13.0->-r requirements.txt (line 17)) (0.7.2)\n",
            "Requirement already satisfied: google-auth<3,>=1.6.3 in /usr/local/lib/python3.10/site-packages (from tensorboard<2.14,>=2.13->tensorflow==2.13.0->-r requirements.txt (line 17)) (2.23.4)\n",
            "Requirement already satisfied: google-auth-oauthlib<1.1,>=0.5 in /usr/local/lib/python3.10/site-packages (from tensorboard<2.14,>=2.13->tensorflow==2.13.0->-r requirements.txt (line 17)) (1.0.0)\n",
            "Requirement already satisfied: markdown>=2.6.8 in /usr/local/lib/python3.10/site-packages (from tensorboard<2.14,>=2.13->tensorflow==2.13.0->-r requirements.txt (line 17)) (3.5.1)\n",
            "Requirement already satisfied: click>=7.0 in /usr/local/lib/python3.10/site-packages (from uvicorn>=0.14.0->gradio>=3.47.1->-r requirements.txt (line 2)) (8.1.7)\n",
            "Requirement already satisfied: h11>=0.8 in /usr/local/lib/python3.10/site-packages (from uvicorn>=0.14.0->gradio>=3.47.1->-r requirements.txt (line 2)) (0.14.0)\n",
            "Requirement already satisfied: qudida>=0.0.4 in /usr/local/lib/python3.10/site-packages (from albumentations->insightface==0.7.3->-r requirements.txt (line 4)) (0.0.4)\n",
            "Requirement already satisfied: tifffile>=2022.8.12 in /usr/local/lib/python3.10/site-packages (from scikit-image->basicsr==1.4.2->-r requirements.txt (line 1)) (2023.9.26)\n",
            "Requirement already satisfied: lazy_loader>=0.3 in /usr/local/lib/python3.10/site-packages (from scikit-image->basicsr==1.4.2->-r requirements.txt (line 1)) (0.3)\n",
            "Requirement already satisfied: humanfriendly>=9.1 in /usr/local/lib/python3.10/site-packages (from coloredlogs->onnxruntime==1.16.0->-r requirements.txt (line 10)) (10.0)\n",
            "Requirement already satisfied: starlette<0.28.0,>=0.27.0 in /usr/local/lib/python3.10/site-packages (from fastapi->gradio>=3.47.1->-r requirements.txt (line 2)) (0.27.0)\n",
            "Requirement already satisfied: anyio<4.0.0,>=3.7.1 in /usr/local/lib/python3.10/site-packages (from fastapi->gradio>=3.47.1->-r requirements.txt (line 2)) (3.7.1)\n",
            "Requirement already satisfied: fiona>=1.8.21 in /usr/local/lib/python3.10/site-packages (from geopandas->lida->-r requirements.txt (line 6)) (1.9.5)\n",
            "Requirement already satisfied: shapely>=1.8.0 in /usr/local/lib/python3.10/site-packages (from geopandas->lida->-r requirements.txt (line 6)) (2.0.2)\n",
            "Requirement already satisfied: pyproj>=3.3.0 in /usr/local/lib/python3.10/site-packages (from geopandas->lida->-r requirements.txt (line 6)) (3.6.1)\n",
            "Requirement already satisfied: httpcore in /usr/local/lib/python3.10/site-packages (from httpx->gradio>=3.47.1->-r requirements.txt (line 2)) (1.0.1)\n",
            "Requirement already satisfied: sniffio in /usr/local/lib/python3.10/site-packages (from httpx->gradio>=3.47.1->-r requirements.txt (line 2)) (1.3.0)\n",
            "Requirement already satisfied: openai in /usr/local/lib/python3.10/site-packages (from llmx->lida->-r requirements.txt (line 6)) (0.28.1)\n",
            "Requirement already satisfied: tiktoken in /usr/local/lib/python3.10/site-packages (from llmx->lida->-r requirements.txt (line 6)) (0.5.1)\n",
            "Requirement already satisfied: diskcache in /usr/local/lib/python3.10/site-packages (from llmx->lida->-r requirements.txt (line 6)) (5.6.3)\n",
            "Requirement already satisfied: cohere in /usr/local/lib/python3.10/site-packages (from llmx->lida->-r requirements.txt (line 6)) (4.32)\n",
            "Requirement already satisfied: tenacity>=6.2.0 in /usr/local/lib/python3.10/site-packages (from plotly->lida->-r requirements.txt (line 6)) (8.2.3)\n",
            "Requirement already satisfied: mizani<0.10.0,>0.9.0 in /usr/local/lib/python3.10/site-packages (from plotnine->lida->-r requirements.txt (line 6)) (0.9.3)\n",
            "Requirement already satisfied: patsy>=0.5.1 in /usr/local/lib/python3.10/site-packages (from plotnine->lida->-r requirements.txt (line 6)) (0.5.3)\n",
            "Requirement already satisfied: wcwidth in /usr/local/lib/python3.10/site-packages (from prettytable->insightface==0.7.3->-r requirements.txt (line 4)) (0.2.9)\n",
            "Requirement already satisfied: threadpoolctl>=2.0.0 in /usr/local/lib/python3.10/site-packages (from scikit-learn->insightface==0.7.3->-r requirements.txt (line 4)) (3.2.0)\n",
            "Requirement already satisfied: joblib>=1.1.1 in /usr/local/lib/python3.10/site-packages (from scikit-learn->insightface==0.7.3->-r requirements.txt (line 4)) (1.3.2)\n",
            "Requirement already satisfied: mpmath>=0.19 in /usr/local/lib/python3.10/site-packages (from sympy->onnxruntime==1.16.0->-r requirements.txt (line 10)) (1.3.0)\n",
            "Requirement already satisfied: platformdirs>=3.5.1 in /usr/local/lib/python3.10/site-packages (from yapf->basicsr==1.4.2->-r requirements.txt (line 1)) (3.11.0)\n",
            "Requirement already satisfied: tomli>=2.0.1 in /usr/local/lib/python3.10/site-packages (from yapf->basicsr==1.4.2->-r requirements.txt (line 1)) (2.0.1)\n",
            "Requirement already satisfied: importlib-metadata>=6.6.0 in /usr/local/lib/python3.10/site-packages (from yapf->basicsr==1.4.2->-r requirements.txt (line 1)) (6.8.0)\n",
            "Requirement already satisfied: exceptiongroup in /usr/local/lib/python3.10/site-packages (from anyio<4.0.0,>=3.7.1->fastapi->gradio>=3.47.1->-r requirements.txt (line 2)) (1.1.3)\n",
            "Requirement already satisfied: cligj>=0.5 in /usr/local/lib/python3.10/site-packages (from fiona>=1.8.21->geopandas->lida->-r requirements.txt (line 6)) (0.7.2)\n",
            "Requirement already satisfied: attrs>=19.2.0 in /usr/local/lib/python3.10/site-packages (from fiona>=1.8.21->geopandas->lida->-r requirements.txt (line 6)) (23.1.0)\n",
            "Requirement already satisfied: click-plugins>=1.0 in /usr/local/lib/python3.10/site-packages (from fiona>=1.8.21->geopandas->lida->-r requirements.txt (line 6)) (1.1.1)\n",
            "Requirement already satisfied: cachetools<6.0,>=2.0.0 in /usr/local/lib/python3.10/site-packages (from google-auth<3,>=1.6.3->tensorboard<2.14,>=2.13->tensorflow==2.13.0->-r requirements.txt (line 17)) (5.3.2)\n",
            "Requirement already satisfied: pyasn1-modules>=0.2.1 in /usr/local/lib/python3.10/site-packages (from google-auth<3,>=1.6.3->tensorboard<2.14,>=2.13->tensorflow==2.13.0->-r requirements.txt (line 17)) (0.3.0)\n",
            "Requirement already satisfied: rsa<5,>=3.1.4 in /usr/local/lib/python3.10/site-packages (from google-auth<3,>=1.6.3->tensorboard<2.14,>=2.13->tensorflow==2.13.0->-r requirements.txt (line 17)) (4.9)\n",
            "Requirement already satisfied: requests-oauthlib>=0.7.0 in /usr/local/lib/python3.10/site-packages (from google-auth-oauthlib<1.1,>=0.5->tensorboard<2.14,>=2.13->tensorflow==2.13.0->-r requirements.txt (line 17)) (1.3.1)\n",
            "Requirement already satisfied: zipp>=0.5 in /usr/local/lib/python3.10/site-packages (from importlib-metadata>=6.6.0->yapf->basicsr==1.4.2->-r requirements.txt (line 1)) (3.17.0)\n",
            "Requirement already satisfied: jsonschema-specifications>=2023.03.6 in /usr/local/lib/python3.10/site-packages (from jsonschema>=3.0->altair<6.0,>=4.2.0->gradio>=3.47.1->-r requirements.txt (line 2)) (2023.7.1)\n",
            "Requirement already satisfied: referencing>=0.28.4 in /usr/local/lib/python3.10/site-packages (from jsonschema>=3.0->altair<6.0,>=4.2.0->gradio>=3.47.1->-r requirements.txt (line 2)) (0.30.2)\n",
            "Requirement already satisfied: rpds-py>=0.7.1 in /usr/local/lib/python3.10/site-packages (from jsonschema>=3.0->altair<6.0,>=4.2.0->gradio>=3.47.1->-r requirements.txt (line 2)) (0.12.0)\n",
            "Requirement already satisfied: fastavro==1.8.2 in /usr/local/lib/python3.10/site-packages (from cohere->llmx->lida->-r requirements.txt (line 6)) (1.8.2)\n",
            "Requirement already satisfied: aiohttp<4.0,>=3.0 in /usr/local/lib/python3.10/site-packages (from cohere->llmx->lida->-r requirements.txt (line 6)) (3.8.6)\n",
            "Requirement already satisfied: backoff<3.0,>=2.0 in /usr/local/lib/python3.10/site-packages (from cohere->llmx->lida->-r requirements.txt (line 6)) (2.2.1)\n",
            "Requirement already satisfied: llvmlite<0.42,>=0.41.0dev0 in /usr/local/lib/python3.10/site-packages (from numba->facexlib>=0.2.5->gfpgan==1.3.8->-r requirements.txt (line 3)) (0.41.1)\n",
            "Requirement already satisfied: regex>=2022.1.18 in /usr/local/lib/python3.10/site-packages (from tiktoken->llmx->lida->-r requirements.txt (line 6)) (2023.10.3)\n",
            "Requirement already satisfied: yarl<2.0,>=1.0 in /usr/local/lib/python3.10/site-packages (from aiohttp<4.0,>=3.0->cohere->llmx->lida->-r requirements.txt (line 6)) (1.9.2)\n",
            "Requirement already satisfied: aiosignal>=1.1.2 in /usr/local/lib/python3.10/site-packages (from aiohttp<4.0,>=3.0->cohere->llmx->lida->-r requirements.txt (line 6)) (1.3.1)\n",
            "Requirement already satisfied: async-timeout<5.0,>=4.0.0a3 in /usr/local/lib/python3.10/site-packages (from aiohttp<4.0,>=3.0->cohere->llmx->lida->-r requirements.txt (line 6)) (4.0.3)\n",
            "Requirement already satisfied: multidict<7.0,>=4.5 in /usr/local/lib/python3.10/site-packages (from aiohttp<4.0,>=3.0->cohere->llmx->lida->-r requirements.txt (line 6)) (6.0.4)\n",
            "Requirement already satisfied: frozenlist>=1.1.1 in /usr/local/lib/python3.10/site-packages (from aiohttp<4.0,>=3.0->cohere->llmx->lida->-r requirements.txt (line 6)) (1.4.0)\n",
            "Requirement already satisfied: pyasn1<0.6.0,>=0.4.6 in /usr/local/lib/python3.10/site-packages (from pyasn1-modules>=0.2.1->google-auth<3,>=1.6.3->tensorboard<2.14,>=2.13->tensorflow==2.13.0->-r requirements.txt (line 17)) (0.5.0)\n",
            "Requirement already satisfied: oauthlib>=3.0.0 in /usr/local/lib/python3.10/site-packages (from requests-oauthlib>=0.7.0->google-auth-oauthlib<1.1,>=0.5->tensorboard<2.14,>=2.13->tensorflow==2.13.0->-r requirements.txt (line 17)) (3.2.2)\n",
            "\u001b[33mWARNING: Running pip as the 'root' user can result in broken permissions and conflicting behaviour with the system package manager. It is recommended to use a virtual environment instead: https://pip.pypa.io/warnings/venv\u001b[0m\u001b[33m\n",
            "\u001b[0musage: app.py [-h] [--out_dir OUT_DIR] [--batch_size BATCH_SIZE] [--cuda] [--colab]\n",
            "app.py: error: unrecognized arguments: --prefer_text_widget\n"
          ]
        }
      ],
      "source": [
        "!git clone https://github.com/victorgeel/FSawap-BypassNSFW.git\n",
        "%cd FSawap-BypassNSFW\n",
        "!conda create -n FSawap-BypassNSFW python=3.10 -y\n",
        "!conda activate FSawap-BypassNSFW\n",
        "!conda install pytorch==2.0.0 torchvision==0.15.0 torchaudio==2.0.0 pytorch-cuda=11.8 -c pytorch -c nvidia\n",
        "!pip install -r requirements.txt\n",
        "!python app.py --prefer_text_widget"
      ]
    },
    {
      "cell_type": "code",
      "source": [
        "from google.colab import drive\n",
        "drive.mount('/content/drive')"
      ],
      "metadata": {
        "id": "2TeKYrhwVWH_",
        "outputId": "ef5f7c82-8617-4504-f25f-52bd6368e1d2",
        "colab": {
          "base_uri": "https://localhost:8080/"
        }
      },
      "execution_count": 2,
      "outputs": [
        {
          "output_type": "stream",
          "name": "stdout",
          "text": [
            "Mounted at /content/drive\n"
          ]
        }
      ]
    },
    {
      "cell_type": "code",
      "source": [
        "\n",
        "#@title\n",
        "inswapper_model = \"https://huggingface.co/ashleykleynhans/inswapper/resolve/main/inswapper_128.onnx\" #@param {type:\"string\"}\n",
        "gfpgan_model = \"https://github.com/TencentARC/GFPGAN/releases/download/v1.3.0/GFPGANv1.4.pth\" #@param {type:\"string\"}\n",
        "face_parser_model = \"https://drive.google.com/uc?id=154JgKpzCPW82qINcVieuPH3fZ2e0P812\" #@param {type:\"string\"}\n",
        "real_esrgan_2x_model = \"https://huggingface.co/ai-forever/Real-ESRGAN/resolve/main/RealESRGAN_x2.pth\" #@param {type:\"string\"}\n",
        "real_esrgan_4x_model = \"https://huggingface.co/ai-forever/Real-ESRGAN/resolve/main/RealESRGAN_x4.pth\" #@param {type:\"string\"}\n",
        "real_esrgan_8x_model = \"https://huggingface.co/ai-forever/Real-ESRGAN/resolve/main/RealESRGAN_x8.pth\" #@param {type:\"string\"}\n",
        "codeformer_model = \"https://huggingface.co/bluefoxcreation/Codeformer-ONNX/resolve/main/codeformer.onnx\" #@param {type:\"string\"}\n",
        "import gdown\n",
        "import urllib.request\n",
        "print(\"Downloading swapper model...\")\n",
        "urllib.request.urlretrieve(inswapper_model, \"/content/FSawap-BypassNSFW/assets/pretrained_models/inswapper_128.onnx\")\n",
        "print(\"Downloading gfpgan model...\")\n",
        "urllib.request.urlretrieve(gfpgan_model, \"/content/FSawap-BypassNSFW/assets/pretrained_models/GFPGANv1.4.pth\")\n",
        "print(\"Downloading face parsing model...\")\n",
        "gdown.download(face_parser_model, \"/content/FSawap-BypassNSFW/assets/pretrained_models/79999_iter.pth\")\n",
        "print(\"Downloading realesrgan 2x model...\")\n",
        "urllib.request.urlretrieve(real_esrgan_2x_model, \"/content/FSawap-BypassNSFW/assets/pretrained_models/RealESRGAN_x2.pth\")\n",
        "print(\"Downloading realesrgan 4x model...\")\n",
        "urllib.request.urlretrieve(real_esrgan_4x_model, \"/content/FSawap-BypassNSFW/assets/pretrained_models/RealESRGAN_x4.pth\")\n",
        "print(\"Downloading realesrgan 8x model...\")\n",
        "urllib.request.urlretrieve(real_esrgan_8x_model, \"/content/FSawap-BypassNSFW/assets/pretrained_models/RealESRGAN_x8.pth\")\n",
        "print(\"Downloading codeformer...\")\n",
        "urllib.request.urlretrieve(codeformer_model, \"/content/FSawap-BypassNSFW/assets/pretrained_models/codeformer.onnx\")"
      ],
      "metadata": {
        "id": "StpUnA-QVJ0x",
        "outputId": "c9846b52-01ab-4327-adc5-72179b26ca99",
        "colab": {
          "base_uri": "https://localhost:8080/"
        }
      },
      "execution_count": 3,
      "outputs": [
        {
          "output_type": "stream",
          "name": "stdout",
          "text": [
            "Downloading swapper model...\n",
            "Downloading gfpgan model...\n",
            "Downloading face parsing model...\n"
          ]
        },
        {
          "output_type": "stream",
          "name": "stderr",
          "text": [
            "Downloading...\n",
            "From: https://drive.google.com/uc?id=154JgKpzCPW82qINcVieuPH3fZ2e0P812\n",
            "To: /content/FSawap-BypassNSFW/assets/pretrained_models/79999_iter.pth\n",
            "100%|██████████| 53.3M/53.3M [00:03<00:00, 16.8MB/s]\n"
          ]
        },
        {
          "output_type": "stream",
          "name": "stdout",
          "text": [
            "Downloading realesrgan 2x model...\n",
            "Downloading realesrgan 4x model...\n",
            "Downloading realesrgan 8x model...\n",
            "Downloading codeformer...\n"
          ]
        },
        {
          "output_type": "execute_result",
          "data": {
            "text/plain": [
              "('/content/FSawap-BypassNSFW/assets/pretrained_models/codeformer.onnx',\n",
              " <http.client.HTTPMessage at 0x7c26e3f83160>)"
            ]
          },
          "metadata": {},
          "execution_count": 3
        }
      ]
    },
    {
      "cell_type": "code",
      "source": [
        "#@title\n",
        "default_output_path = \"/content/FSawap-BypassNSFW\" #@param {type:\"string\"}\n",
        "\n",
        "command = f\"python app.py --cuda --colab --out_dir {default_output_path}\"\n",
        "!{command}"
      ],
      "metadata": {
        "id": "V3b4bu4UV9hN",
        "outputId": "aa3f178b-099a-4251-8bf4-e555ae075e41",
        "colab": {
          "base_uri": "https://localhost:8080/"
        }
      },
      "execution_count": null,
      "outputs": [
        {
          "output_type": "stream",
          "name": "stdout",
          "text": [
            "\n",
            "********** CUDA unavailable running on CPU **********\n",
            "\n",
            "Applied providers: ['CPUExecutionProvider'], with options: {'CPUExecutionProvider': {}}\n",
            "find model: /root/.insightface/models/buffalo_l/1k3d68.onnx landmark_3d_68 ['None', 3, 192, 192] 0.0 1.0\n",
            "Applied providers: ['CPUExecutionProvider'], with options: {'CPUExecutionProvider': {}}\n",
            "find model: /root/.insightface/models/buffalo_l/2d106det.onnx landmark_2d_106 ['None', 3, 192, 192] 0.0 1.0\n",
            "Applied providers: ['CPUExecutionProvider'], with options: {'CPUExecutionProvider': {}}\n",
            "find model: /root/.insightface/models/buffalo_l/det_10g.onnx detection [1, 3, '?', '?'] 127.5 128.0\n",
            "Applied providers: ['CPUExecutionProvider'], with options: {'CPUExecutionProvider': {}}\n",
            "find model: /root/.insightface/models/buffalo_l/genderage.onnx genderage ['None', 3, 96, 96] 0.0 1.0\n",
            "Applied providers: ['CPUExecutionProvider'], with options: {'CPUExecutionProvider': {}}\n",
            "find model: /root/.insightface/models/buffalo_l/w600k_r50.onnx recognition ['None', 3, 112, 112] 127.5 127.5\n",
            "set det-size: (640, 640)\n",
            "Running in colab mode\n",
            "Running on local URL:  http://127.0.0.1:7860\n",
            "Running on public URL: https://07cd5782bbdd9c661f.gradio.live\n",
            "\n",
            "This share link expires in 72 hours. For free permanent hosting and GPU upgrades, run `gradio deploy` from Terminal to deploy to Spaces (https://huggingface.co/spaces)\n"
          ]
        }
      ]
    }
  ]
}